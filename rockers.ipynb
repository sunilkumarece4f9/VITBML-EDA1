{
  "nbformat": 4,
  "nbformat_minor": 0,
  "metadata": {
    "colab": {
      "name": "rockers.ipynb",
      "provenance": [],
      "authorship_tag": "ABX9TyOA97Duh4NDZEkdSegYFplg",
      "include_colab_link": true
    },
    "kernelspec": {
      "name": "python3",
      "display_name": "Python 3"
    }
  },
  "cells": [
    {
      "cell_type": "markdown",
      "metadata": {
        "id": "view-in-github",
        "colab_type": "text"
      },
      "source": [
        "<a href=\"https://colab.research.google.com/github/sunilkumarece4f9/VITBML-EDA1/blob/master/rockers.ipynb\" target=\"_parent\"><img src=\"https://colab.research.google.com/assets/colab-badge.svg\" alt=\"Open In Colab\"/></a>"
      ]
    },
    {
      "cell_type": "code",
      "metadata": {
        "id": "H8DlpbEn8qLm",
        "colab_type": "code",
        "colab": {
          "base_uri": "https://localhost:8080/",
          "height": 255
        },
        "outputId": "549815c3-f629-499b-d947-174f010d5afb"
      },
      "source": [
        "import pandas as pd\n",
        "df=pd.read_csv(\"/content/games.csv\")\n",
        "print(df)"
      ],
      "execution_count": 2,
      "outputs": [
        {
          "output_type": "stream",
          "text": [
            "             id  rated  ...                            opening_name  opening_ply\n",
            "0      TZJHLljE  False  ...        Slav Defense: Exchange Variation            5\n",
            "1      l1NXvwaE   True  ...  Nimzowitsch Defense: Kennedy Variation            4\n",
            "2      mIICvQHh   True  ...   King's Pawn Game: Leonardis Variation            3\n",
            "3      kWKvrqYL   True  ...  Queen's Pawn Game: Zukertort Variation            3\n",
            "4      9tXo1AUZ   True  ...                        Philidor Defense            5\n",
            "...         ...    ...  ...                                     ...          ...\n",
            "20053  EfqH7VVH   True  ...                           Dutch Defense            2\n",
            "20054  WSJDhbPl   True  ...                            Queen's Pawn            2\n",
            "20055  yrAas0Kj   True  ...         Queen's Pawn Game: Mason Attack            3\n",
            "20056  b0v4tRyF   True  ...                            Pirc Defense            4\n",
            "20057  N8G2JHGG   True  ...         Queen's Pawn Game: Mason Attack            3\n",
            "\n",
            "[20058 rows x 16 columns]\n"
          ],
          "name": "stdout"
        }
      ]
    },
    {
      "cell_type": "code",
      "metadata": {
        "id": "H0g2CmuAGZTj",
        "colab_type": "code",
        "colab": {
          "base_uri": "https://localhost:8080/",
          "height": 85
        },
        "outputId": "4386815e-361b-4c6b-fb8f-cd5cae7597b6"
      },
      "source": [
        "print(df.loc[[0]])"
      ],
      "execution_count": 3,
      "outputs": [
        {
          "output_type": "stream",
          "text": [
            "         id  rated  ...                      opening_name  opening_ply\n",
            "0  TZJHLljE  False  ...  Slav Defense: Exchange Variation            5\n",
            "\n",
            "[1 rows x 16 columns]\n"
          ],
          "name": "stdout"
        }
      ]
    },
    {
      "cell_type": "code",
      "metadata": {
        "id": "srBTsHnhGsC2",
        "colab_type": "code",
        "colab": {
          "base_uri": "https://localhost:8080/",
          "height": 153
        },
        "outputId": "5594cb7e-79f0-4378-cabd-bc43054755c7"
      },
      "source": [
        "print(df.head())"
      ],
      "execution_count": 4,
      "outputs": [
        {
          "output_type": "stream",
          "text": [
            "         id  rated  ...                            opening_name  opening_ply\n",
            "0  TZJHLljE  False  ...        Slav Defense: Exchange Variation            5\n",
            "1  l1NXvwaE   True  ...  Nimzowitsch Defense: Kennedy Variation            4\n",
            "2  mIICvQHh   True  ...   King's Pawn Game: Leonardis Variation            3\n",
            "3  kWKvrqYL   True  ...  Queen's Pawn Game: Zukertort Variation            3\n",
            "4  9tXo1AUZ   True  ...                        Philidor Defense            5\n",
            "\n",
            "[5 rows x 16 columns]\n"
          ],
          "name": "stdout"
        }
      ]
    },
    {
      "cell_type": "code",
      "metadata": {
        "id": "ODUPUZWsG8q-",
        "colab_type": "code",
        "colab": {
          "base_uri": "https://localhost:8080/",
          "height": 153
        },
        "outputId": "c067aafb-9301-40fa-97e3-1432e34ff86f"
      },
      "source": [
        "print(df.tail())"
      ],
      "execution_count": 5,
      "outputs": [
        {
          "output_type": "stream",
          "text": [
            "             id  rated  ...                     opening_name  opening_ply\n",
            "20053  EfqH7VVH   True  ...                    Dutch Defense            2\n",
            "20054  WSJDhbPl   True  ...                     Queen's Pawn            2\n",
            "20055  yrAas0Kj   True  ...  Queen's Pawn Game: Mason Attack            3\n",
            "20056  b0v4tRyF   True  ...                     Pirc Defense            4\n",
            "20057  N8G2JHGG   True  ...  Queen's Pawn Game: Mason Attack            3\n",
            "\n",
            "[5 rows x 16 columns]\n"
          ],
          "name": "stdout"
        }
      ]
    },
    {
      "cell_type": "code",
      "metadata": {
        "id": "_3LfdybOHQAa",
        "colab_type": "code",
        "colab": {
          "base_uri": "https://localhost:8080/",
          "height": 255
        },
        "outputId": "ebeef702-de63-4430-e966-67f6a04ac8e3"
      },
      "source": [
        "import pandas as pd \n",
        "import matplotlib.pyplot as plt\n",
        "df=pd.read_csv(\"/content/games.csv\")\n",
        "print(df)"
      ],
      "execution_count": 6,
      "outputs": [
        {
          "output_type": "stream",
          "text": [
            "             id  rated  ...                            opening_name  opening_ply\n",
            "0      TZJHLljE  False  ...        Slav Defense: Exchange Variation            5\n",
            "1      l1NXvwaE   True  ...  Nimzowitsch Defense: Kennedy Variation            4\n",
            "2      mIICvQHh   True  ...   King's Pawn Game: Leonardis Variation            3\n",
            "3      kWKvrqYL   True  ...  Queen's Pawn Game: Zukertort Variation            3\n",
            "4      9tXo1AUZ   True  ...                        Philidor Defense            5\n",
            "...         ...    ...  ...                                     ...          ...\n",
            "20053  EfqH7VVH   True  ...                           Dutch Defense            2\n",
            "20054  WSJDhbPl   True  ...                            Queen's Pawn            2\n",
            "20055  yrAas0Kj   True  ...         Queen's Pawn Game: Mason Attack            3\n",
            "20056  b0v4tRyF   True  ...                            Pirc Defense            4\n",
            "20057  N8G2JHGG   True  ...         Queen's Pawn Game: Mason Attack            3\n",
            "\n",
            "[20058 rows x 16 columns]\n"
          ],
          "name": "stdout"
        }
      ]
    },
    {
      "cell_type": "code",
      "metadata": {
        "id": "s_DgNB9NHl3I",
        "colab_type": "code",
        "colab": {
          "base_uri": "https://localhost:8080/",
          "height": 85
        },
        "outputId": "7834f387-8423-4753-d51a-1efae43e7835"
      },
      "source": [
        "print(df.loc[[0]])"
      ],
      "execution_count": 7,
      "outputs": [
        {
          "output_type": "stream",
          "text": [
            "         id  rated  ...                      opening_name  opening_ply\n",
            "0  TZJHLljE  False  ...  Slav Defense: Exchange Variation            5\n",
            "\n",
            "[1 rows x 16 columns]\n"
          ],
          "name": "stdout"
        }
      ]
    },
    {
      "cell_type": "code",
      "metadata": {
        "id": "Kzk1w2hvHveP",
        "colab_type": "code",
        "colab": {
          "base_uri": "https://localhost:8080/",
          "height": 68
        },
        "outputId": "098da5eb-a53e-4b25-94d5-6bcb7c6d03e8"
      },
      "source": [
        "d=df.iloc[0:5,29:]\n",
        "print(d)"
      ],
      "execution_count": 9,
      "outputs": [
        {
          "output_type": "stream",
          "text": [
            "Empty DataFrame\n",
            "Columns: []\n",
            "Index: [0, 1, 2, 3, 4]\n"
          ],
          "name": "stdout"
        }
      ]
    },
    {
      "cell_type": "code",
      "metadata": {
        "id": "h12Z69MPIyas",
        "colab_type": "code",
        "colab": {
          "base_uri": "https://localhost:8080/",
          "height": 136
        },
        "outputId": "358e6eb3-bf7c-4550-c847-4e4efa8ceaaa"
      },
      "source": [
        "d=df.loc[0:5,['rated','turns','winner']]\n",
        "print(d)"
      ],
      "execution_count": 11,
      "outputs": [
        {
          "output_type": "stream",
          "text": [
            "   rated  turns winner\n",
            "0  False     13  white\n",
            "1   True     16  black\n",
            "2   True     61  white\n",
            "3   True     61  white\n",
            "4   True     95  white\n",
            "5  False      5   draw\n"
          ],
          "name": "stdout"
        }
      ]
    },
    {
      "cell_type": "code",
      "metadata": {
        "id": "YCLhXBuzJpKM",
        "colab_type": "code",
        "colab": {
          "base_uri": "https://localhost:8080/",
          "height": 262
        },
        "outputId": "1836f985-d1cf-40b9-a95f-ee1b284c4c88"
      },
      "source": [
        "d.plot(kind='bar')\n",
        "plt.show()"
      ],
      "execution_count": 12,
      "outputs": [
        {
          "output_type": "display_data",
          "data": {
            "image/png": "[encoded data removed]",
            "text/plain": [
              "<Figure size 432x288 with 1 Axes>"
            ]
          },
          "metadata": {
            "tags": []
          }
        }
      ]
    },
    {
      "cell_type": "code",
      "metadata": {
        "id": "9dCWvPn3J3ps",
        "colab_type": "code",
        "colab": {
          "base_uri": "https://localhost:8080/",
          "height": 265
        },
        "outputId": "02327c56-98c2-45ce-96eb-92b70d46551d"
      },
      "source": [
        "d.plot()\n",
        "plt.show()"
      ],
      "execution_count": 13,
      "outputs": [
        {
          "output_type": "display_data",
          "data": {
            "image/png": "[encoded data removed]",
            "text/plain": [
              "<Figure size 432x288 with 1 Axes>"
            ]
          },
          "metadata": {
            "tags": []
          }
        }
      ]
    },
    {
      "cell_type": "code",
      "metadata": {
        "id": "deNGXohtJ_Lo",
        "colab_type": "code",
        "colab": {
          "base_uri": "https://localhost:8080/",
          "height": 153
        },
        "outputId": "8da0d8e9-3444-456d-81b6-54833a67ce18"
      },
      "source": [
        "d.set_index(\"turns\",inplace=True)\n",
        "print(d)"
      ],
      "execution_count": 15,
      "outputs": [
        {
          "output_type": "stream",
          "text": [
            "       rated winner\n",
            "turns              \n",
            "13     False  white\n",
            "16      True  black\n",
            "61      True  white\n",
            "61      True  white\n",
            "95      True  white\n",
            "5      False   draw\n"
          ],
          "name": "stdout"
        }
      ]
    }
  ]
}